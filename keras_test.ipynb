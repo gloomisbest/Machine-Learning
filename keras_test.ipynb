{
  "nbformat": 4,
  "nbformat_minor": 0,
  "metadata": {
    "colab": {
      "name": "keras_test.ipynb",
      "version": "0.3.2",
      "provenance": [],
      "collapsed_sections": [],
      "include_colab_link": true
    },
    "kernelspec": {
      "name": "python3",
      "display_name": "Python 3"
    },
    "accelerator": "GPU"
  },
  "cells": [
    {
      "cell_type": "markdown",
      "metadata": {
        "id": "view-in-github",
        "colab_type": "text"
      },
      "source": [
        "<a href=\"https://colab.research.google.com/github/gloomisbest/Machine-Learning/blob/master/keras_test.ipynb\" target=\"_parent\"><img src=\"https://colab.research.google.com/assets/colab-badge.svg\" alt=\"Open In Colab\"/></a>"
      ]
    },
    {
      "metadata": {
        "id": "wn3r1RWhABib",
        "colab_type": "code",
        "outputId": "c816d430-ec09-4daf-df7f-96fc02e99beb",
        "colab": {
          "base_uri": "https://localhost:8080/",
          "height": 235
        }
      },
      "cell_type": "code",
      "source": [
        "!apt-get install -y -qq software-properties-common python-software-properties module-init-tools\n",
        "!add-apt-repository -y ppa:alessandro-strada/ppa 2>&1 > /dev/null\n",
        "!apt-get update -qq 2>&1 > /dev/null\n",
        "!apt-get -y install -qq google-drive-ocamlfuse fuse\n",
        "from google.colab import auth\n",
        "auth.authenticate_user()\n",
        "from oauth2client.client import GoogleCredentials\n",
        "creds = GoogleCredentials.get_application_default()\n",
        "import getpass\n",
        "!google-drive-ocamlfuse -headless -id={creds.client_id} -secret={creds.client_secret} < /dev/null 2>&1 | grep URL\n",
        "vcode = getpass.getpass()\n",
        "!echo {vcode} | google-drive-ocamlfuse -headless -id={creds.client_id} -secret={creds.client_secret}"
      ],
      "execution_count": 1,
      "outputs": [
        {
          "output_type": "stream",
          "text": [
            "E: Package 'python-software-properties' has no installation candidate\n",
            "Selecting previously unselected package google-drive-ocamlfuse.\n",
            "(Reading database ... 113598 files and directories currently installed.)\n",
            "Preparing to unpack .../google-drive-ocamlfuse_0.7.1-0ubuntu3~ubuntu18.04.1_amd64.deb ...\n",
            "Unpacking google-drive-ocamlfuse (0.7.1-0ubuntu3~ubuntu18.04.1) ...\n",
            "Setting up google-drive-ocamlfuse (0.7.1-0ubuntu3~ubuntu18.04.1) ...\n",
            "Processing triggers for man-db (2.8.3-2ubuntu0.1) ...\n",
            "Please, open the following URL in a web browser: https://accounts.google.com/o/oauth2/auth?client_id=32555940559.apps.googleusercontent.com&redirect_uri=urn%3Aietf%3Awg%3Aoauth%3A2.0%3Aoob&scope=https%3A%2F%2Fwww.googleapis.com%2Fauth%2Fdrive&response_type=code&access_type=offline&approval_prompt=force\n",
            "··········\n",
            "Please, open the following URL in a web browser: https://accounts.google.com/o/oauth2/auth?client_id=32555940559.apps.googleusercontent.com&redirect_uri=urn%3Aietf%3Awg%3Aoauth%3A2.0%3Aoob&scope=https%3A%2F%2Fwww.googleapis.com%2Fauth%2Fdrive&response_type=code&access_type=offline&approval_prompt=force\n",
            "Please enter the verification code: Access token retrieved correctly.\n"
          ],
          "name": "stdout"
        }
      ]
    },
    {
      "metadata": {
        "id": "ZHe_CjnAAJ1d",
        "colab_type": "code",
        "outputId": "099be3d9-3c33-4ec6-aa2f-ddec25dc3c6b",
        "colab": {
          "base_uri": "https://localhost:8080/",
          "height": 53
        }
      },
      "cell_type": "code",
      "source": [
        "!mkdir -p drive\n",
        "!google-drive-ocamlfuse -o nonempty drive\n",
        "%cd drive//Colab Notebooks/B&P_test\n",
        "!ls"
      ],
      "execution_count": 2,
      "outputs": [
        {
          "output_type": "stream",
          "text": [
            "/content/drive/Colab Notebooks/B&P_test\n",
            "model.png  test  train\n"
          ],
          "name": "stdout"
        }
      ]
    },
    {
      "metadata": {
        "id": "g5eAn-FXBJuC",
        "colab_type": "code",
        "outputId": "628766f3-145f-469a-c6f0-f1da3f5c944b",
        "colab": {
          "base_uri": "https://localhost:8080/",
          "height": 35
        }
      },
      "cell_type": "code",
      "source": [
        "from keras.preprocessing.image import ImageDataGenerator\n",
        "from keras.models import Sequential\n",
        "from keras.layers import Convolution2D, MaxPooling2D\n",
        "from keras.layers import Activation, Dropout, Flatten, Dense\n",
        "from keras import backend as K\n",
        "from keras.optimizers import Adam\n",
        "\n",
        "import tensorflow as tf\n",
        "\n",
        "tf_config = tf.ConfigProto(gpu_options=tf.GPUOptions(allow_growth=True))\n",
        "K.set_session(tf.Session(config=tf_config))"
      ],
      "execution_count": 3,
      "outputs": [
        {
          "output_type": "stream",
          "text": [
            "Using TensorFlow backend.\n"
          ],
          "name": "stderr"
        }
      ]
    },
    {
      "metadata": {
        "id": "jaTctHBvARZr",
        "colab_type": "code",
        "colab": {}
      },
      "cell_type": "code",
      "source": [
        "# dimensions of our images.\n",
        "img_width, img_height = 128, 128\n",
        "\n",
        "train_data_dir = './train'\n",
        "validation_data_dir = './test'\n",
        "nb_train_samples = 500\n",
        "nb_validation_samples = 60\n",
        "epochs = 20\n",
        "batch_size = 64\n",
        "\n",
        "if K.image_data_format() == 'channels_first':\n",
        "    input_shape = (3, img_width, img_height)\n",
        "else:\n",
        "    input_shape = (img_width, img_height, 3)"
      ],
      "execution_count": 0,
      "outputs": []
    },
    {
      "metadata": {
        "id": "wYcRugCxA8Tq",
        "colab_type": "code",
        "outputId": "3f25ce9b-0cfa-4fc4-e292-05f3234ce2ac",
        "colab": {
          "base_uri": "https://localhost:8080/",
          "height": 125
        }
      },
      "cell_type": "code",
      "source": [
        "# Another way to build your CNN\n",
        "model = Sequential()\n",
        "\n",
        "# Conv layer 1 output shape (64, 128, 128)\n",
        "model.add(Convolution2D(\n",
        "    batch_input_shape=(None, 128, 128, 3),\n",
        "    filters=32,\n",
        "    kernel_size=5,\n",
        "    strides=1,\n",
        "    padding='same',     # Padding method\n",
        "    data_format='channels_first',\n",
        "))\n",
        "model.add(Activation('relu'))\n",
        "model.add(Dropout(0.5))\n",
        "\n",
        "# Pooling layer 1 (max pooling) output shape (32, 48, 48)\n",
        "model.add(MaxPooling2D(\n",
        "    pool_size=2,\n",
        "    strides=2,\n",
        "    padding='same',    # Padding method\n",
        "    data_format='channels_first',\n",
        "))\n",
        "\n",
        "\n",
        "# Conv layer 2 output shape (64, 48, 48)\n",
        "model.add(Convolution2D(32, 5, strides=1, padding='same', data_format='channels_first'))\n",
        "model.add(Activation('relu'))\n",
        "model.add(Dropout(0.5))\n",
        "\n",
        "# Pooling layer 2 (max pooling) output shape (64, 24, 24)\n",
        "model.add(MaxPooling2D(2, 2, 'same', data_format='channels_first'))\n",
        "\n",
        "# Conv layer 2 output shape (64, 48, 48)\n",
        "model.add(Convolution2D(64, 5, strides=1, padding='same', data_format='channels_first'))\n",
        "model.add(Activation('relu'))\n",
        "model.add(Dropout(0.5))\n",
        "\n",
        "# Pooling layer 2 (max pooling) output shape (64, 24, 24)\n",
        "model.add(MaxPooling2D(2, 2, 'same', data_format='channels_first'))\n",
        "\n",
        "\n",
        "# Fully connected layer 1 input shape (64 * 7 * 7) = (3136), output shape (1024)\n",
        "model.add(Flatten())\n",
        "model.add(Dense(512))\n",
        "model.add(Activation('relu'))\n",
        "model.add(Dropout(0.5))\n",
        "# Fully connected layer 2 to shape (10) for 10 classes\n",
        "model.add(Dense(1))\n",
        "model.add(Activation('sigmoid'))\n",
        "\n",
        "adam = Adam(lr=1e-4)\n",
        "\n",
        "# We add metrics to get more results you want to see\n",
        "model.compile(optimizer=adam,\n",
        "              loss='binary_crossentropy',\n",
        "              metrics=['accuracy'])\n",
        "\n",
        "#model.compile(loss='binary_crossentropy',optimizer=sgd, metrics=['accuracy'])"
      ],
      "execution_count": 6,
      "outputs": [
        {
          "output_type": "stream",
          "text": [
            "WARNING:tensorflow:From /usr/local/lib/python3.6/dist-packages/tensorflow/python/framework/op_def_library.py:263: colocate_with (from tensorflow.python.framework.ops) is deprecated and will be removed in a future version.\n",
            "Instructions for updating:\n",
            "Colocations handled automatically by placer.\n",
            "WARNING:tensorflow:From /usr/local/lib/python3.6/dist-packages/keras/backend/tensorflow_backend.py:3445: calling dropout (from tensorflow.python.ops.nn_ops) with keep_prob is deprecated and will be removed in a future version.\n",
            "Instructions for updating:\n",
            "Please use `rate` instead of `keep_prob`. Rate should be set to `rate = 1 - keep_prob`.\n"
          ],
          "name": "stdout"
        }
      ]
    },
    {
      "metadata": {
        "id": "O8fWh5GhE3CN",
        "colab_type": "code",
        "outputId": "dd1ad6fe-c9b4-48c5-894f-0671f9a6b1c1",
        "colab": {
          "base_uri": "https://localhost:8080/",
          "height": 53
        }
      },
      "cell_type": "code",
      "source": [
        "# this is the augmentation configuration we will use for training\n",
        "train_datagen = ImageDataGenerator(\n",
        "    rescale=1./255,\n",
        "    rotation_range=40,\n",
        "    width_shift_range=0.2,\n",
        "    height_shift_range=0.2,\n",
        "    shear_range=0.2,\n",
        "    zoom_range=0.2,\n",
        "    horizontal_flip=True,)\n",
        "\n",
        "# this is the augmentation configuration we will use for testing:\n",
        "# only rescaling\n",
        "test_datagen = ImageDataGenerator(rescale=1. / 255)\n",
        "\n",
        "train_generator = train_datagen.flow_from_directory(\n",
        "    train_data_dir,\n",
        "    target_size=(128, 128),\n",
        "    batch_size=batch_size,\n",
        "    classes=['Bulbasaur', 'Pikachu'],\n",
        "    class_mode='binary')\n",
        "\n",
        "validation_generator = test_datagen.flow_from_directory(\n",
        "    validation_data_dir,\n",
        "    target_size=(128, 128),\n",
        "    batch_size=batch_size,\n",
        "    classes=['Bulbasaur', 'Pikachu'],\n",
        "    class_mode='binary')\n"
      ],
      "execution_count": 7,
      "outputs": [
        {
          "output_type": "stream",
          "text": [
            "Found 500 images belonging to 2 classes.\n",
            "Found 60 images belonging to 2 classes.\n"
          ],
          "name": "stdout"
        }
      ]
    },
    {
      "metadata": {
        "id": "ucFJ6k1VE_2U",
        "colab_type": "code",
        "outputId": "8f302e38-dff5-4859-cd1b-dc36e351ebe1",
        "colab": {
          "base_uri": "https://localhost:8080/",
          "height": 737
        }
      },
      "cell_type": "code",
      "source": [
        "from keras.callbacks import History\n",
        "from keras.callbacks import ModelCheckpoint\n",
        "import keras\n",
        "\n",
        "\n",
        "history = History()\n",
        "model_checkpoint = ModelCheckpoint('temp_model.hdf5', monitor='loss', save_best_only=True)\n",
        "tb_cb = keras.callbacks.TensorBoard(log_dir='log', write_images=1, histogram_freq=0)\n",
        "# 设置log的存储位置，将网络权值以图片格式保持在tensorboard中显示，设置每一个周期计算一次网络的\n",
        "# 权值，每层输出值的分布直方图\n",
        "callbacks = [\n",
        "        history,\n",
        "        model_checkpoint,\n",
        "        tb_cb]\n",
        "\n",
        "\n",
        "\n",
        "history = model.fit_generator(\n",
        "    train_generator,\n",
        "    steps_per_epoch=nb_train_samples ,\n",
        "    epochs=epochs,\n",
        "    validation_data=validation_generator,\n",
        "    validation_steps=nb_validation_samples)"
      ],
      "execution_count": 10,
      "outputs": [
        {
          "output_type": "stream",
          "text": [
            "Epoch 1/20\n",
            "500/500 [==============================] - 220s 440ms/step - loss: 0.0530 - acc: 0.9803 - val_loss: 0.1911 - val_acc: 0.8500\n",
            "Epoch 2/20\n",
            "500/500 [==============================] - 215s 429ms/step - loss: 0.0498 - acc: 0.9820 - val_loss: 0.1999 - val_acc: 0.8833\n",
            "Epoch 3/20\n",
            "500/500 [==============================] - 214s 428ms/step - loss: 0.0493 - acc: 0.9820 - val_loss: 0.1947 - val_acc: 0.8833\n",
            "Epoch 4/20\n",
            "500/500 [==============================] - 215s 430ms/step - loss: 0.0471 - acc: 0.9823 - val_loss: 0.1617 - val_acc: 0.9333\n",
            "Epoch 5/20\n",
            "500/500 [==============================] - 214s 428ms/step - loss: 0.0462 - acc: 0.9833 - val_loss: 0.1911 - val_acc: 0.8833\n",
            "Epoch 6/20\n",
            "500/500 [==============================] - 215s 430ms/step - loss: 0.0443 - acc: 0.9833 - val_loss: 0.1685 - val_acc: 0.9000\n",
            "Epoch 7/20\n",
            "500/500 [==============================] - 212s 425ms/step - loss: 0.0435 - acc: 0.9836 - val_loss: 0.1896 - val_acc: 0.8833\n",
            "Epoch 8/20\n",
            "500/500 [==============================] - 211s 423ms/step - loss: 0.0386 - acc: 0.9860 - val_loss: 0.2174 - val_acc: 0.8833\n",
            "Epoch 9/20\n",
            "500/500 [==============================] - 210s 419ms/step - loss: 0.0392 - acc: 0.9856 - val_loss: 0.1482 - val_acc: 0.9333\n",
            "Epoch 10/20\n",
            "500/500 [==============================] - 213s 427ms/step - loss: 0.0364 - acc: 0.9876 - val_loss: 0.1916 - val_acc: 0.9000\n",
            "Epoch 11/20\n",
            "500/500 [==============================] - 218s 435ms/step - loss: 0.0389 - acc: 0.9864 - val_loss: 0.2447 - val_acc: 0.9000\n",
            "Epoch 12/20\n",
            "500/500 [==============================] - 214s 429ms/step - loss: 0.0366 - acc: 0.9868 - val_loss: 0.1745 - val_acc: 0.9333\n",
            "Epoch 13/20\n",
            "500/500 [==============================] - 215s 430ms/step - loss: 0.0328 - acc: 0.9881 - val_loss: 0.1828 - val_acc: 0.9167\n",
            "Epoch 14/20\n",
            "500/500 [==============================] - 213s 427ms/step - loss: 0.0344 - acc: 0.9879 - val_loss: 0.1597 - val_acc: 0.9333\n",
            "Epoch 15/20\n",
            "500/500 [==============================] - 215s 429ms/step - loss: 0.0328 - acc: 0.9881 - val_loss: 0.1528 - val_acc: 0.9167\n",
            "Epoch 16/20\n",
            "500/500 [==============================] - 214s 428ms/step - loss: 0.0305 - acc: 0.9897 - val_loss: 0.1687 - val_acc: 0.9333\n",
            "Epoch 17/20\n",
            "500/500 [==============================] - 214s 428ms/step - loss: 0.0295 - acc: 0.9894 - val_loss: 0.1850 - val_acc: 0.9000\n",
            "Epoch 18/20\n",
            "500/500 [==============================] - 214s 428ms/step - loss: 0.0284 - acc: 0.9905 - val_loss: 0.1577 - val_acc: 0.9167\n",
            "Epoch 19/20\n",
            "500/500 [==============================] - 214s 428ms/step - loss: 0.0284 - acc: 0.9903 - val_loss: 0.1134 - val_acc: 0.9500\n",
            "Epoch 20/20\n",
            "500/500 [==============================] - 213s 427ms/step - loss: 0.0308 - acc: 0.9895 - val_loss: 0.1676 - val_acc: 0.8667\n"
          ],
          "name": "stdout"
        }
      ]
    },
    {
      "metadata": {
        "id": "1gw6Queb885r",
        "colab_type": "code",
        "colab": {}
      },
      "cell_type": "code",
      "source": [
        "from matplotlib import pyplot as plt\n",
        "history=history\n",
        "plt.plot()\n",
        "plt.plot(history.history['val_acc'])\n",
        "plt.title('model accuracy')\n",
        "plt.ylabel('accuracy')\n",
        "plt.xlabel('epoch')\n",
        "plt.legend(['train', 'test'], loc='upper left')\n",
        "plt.show()\n",
        "# summarize history for loss\n",
        "plt.plot(history.history['loss'])\n",
        "plt.plot(history.history['val_loss'])\n",
        "plt.title('model loss')\n",
        "plt.ylabel('loss')\n",
        "plt.xlabel('epoch')\n",
        "plt.legend(['train', 'test'], loc='upper left')\n",
        "plt.show()\n"
      ],
      "execution_count": 0,
      "outputs": []
    },
    {
      "metadata": {
        "id": "Gv0X78xuJteU",
        "colab_type": "code",
        "colab": {
          "base_uri": "https://localhost:8080/",
          "height": 55
        },
        "outputId": "3c948dcd-2165-4847-9998-8cfd0b1c89a8"
      },
      "cell_type": "code",
      "source": [
        "\n",
        "#保存模型和权重\n",
        "model.save('fine_tune_model.h5')\n",
        "model.save_weights('fine_tune_model_weight')\n",
        "print(history.history)"
      ],
      "execution_count": 12,
      "outputs": [
        {
          "output_type": "stream",
          "text": [
            "{'val_loss': [0.1911401445666949, 0.1999170608818531, 0.19468707342942557, 0.16170232196648915, 0.19114599600434304, 0.16850365847349166, 0.18956777627269428, 0.2174483557542165, 0.1482274127503236, 0.19159504945079486, 0.2447379656136036, 0.17454172670841217, 0.18275699019432068, 0.1597178506354491, 0.1527642399072647, 0.16872335722049078, 0.1850239172577858, 0.15770002404848735, 0.11343845936159293, 0.1676344874004523], 'val_acc': [0.8500000238418579, 0.8833333253860474, 0.8833333253860474, 0.9333333373069763, 0.8833333253860474, 0.8999999761581421, 0.8833333253860474, 0.8833333253860474, 0.9333333373069763, 0.8999999761581421, 0.8999999761581421, 0.9333333373069763, 0.9166666865348816, 0.9333333373069763, 0.9166666865348816, 0.9333333373069763, 0.8999999761581421, 0.9166666865348816, 0.949999988079071, 0.8666666746139526], 'loss': [0.05311738620975823, 0.04964903721811457, 0.04944874834241157, 0.047032129858953005, 0.046034694768882674, 0.044340415051096774, 0.04320834599621737, 0.0384735579440503, 0.039179772437351205, 0.0362640897883621, 0.03886979172523638, 0.03655389132783389, 0.03273919612844278, 0.03453536280759338, 0.032546230394438554, 0.03048287123674378, 0.029485447193235776, 0.028412876990279192, 0.028456196328791945, 0.030896824574221514], 'acc': [0.9801958015668658, 0.9820125451421878, 0.9819874574392385, 0.9823326068763284, 0.98329920567513, 0.9832927913690801, 0.9837791132353321, 0.9860453197629789, 0.9855707696950554, 0.9877096392360238, 0.986338622221594, 0.986845473491677, 0.9881302782236416, 0.9878056582515088, 0.9881622721418445, 0.9896620144506466, 0.9894420264366492, 0.9904941743855714, 0.9903058607788198, 0.9894059653273619]}\n"
          ],
          "name": "stdout"
        }
      ]
    },
    {
      "metadata": {
        "id": "ZDj1mZwKMK8w",
        "colab_type": "code",
        "colab": {
          "base_uri": "https://localhost:8080/",
          "height": 395
        },
        "outputId": "79f0cc52-a7ac-4a7a-fab5-44a10d1b85ae"
      },
      "cell_type": "code",
      "source": [
        "import numpy as np\n",
        "from keras.models import load_model\n",
        "import os\n",
        "from PIL import Image\n",
        "\n",
        "model = load_model('fine_tune_model.h5')  #选取自己的.h模型名称\n",
        "img_path = r'./test_colab'\n",
        "\n",
        "for i in os.listdir(img_path):\n",
        "  #需要用reshape定义出例子的个数，图片的 通道数，图片的长与宽。具体的参加keras文档\n",
        "  img = Image.open(os.path.join(img_path,i))\n",
        "  img_show = img\n",
        "  img = np.array(img)\n",
        "  img = img.reshape(1,128, 128, 3)/255.\n",
        "  predict = model.predict_classes(img)\n",
        "  print (i,'识别为：')\n",
        "  if predict == '[[1]]':\n",
        "    print('Bulbasaur')\n",
        "  else:\n",
        "    print('Pikachu')\n",
        "\n",
        "\n"
      ],
      "execution_count": 33,
      "outputs": [
        {
          "output_type": "stream",
          "text": [
            "test004.jpg 识别为：\n",
            "Pikachu\n",
            "test008.jpg 识别为：\n",
            "Pikachu\n",
            "test003.jpg 识别为：\n",
            "Pikachu\n",
            "test006.jpg 识别为：\n",
            "Pikachu\n",
            "test009.jpg 识别为：\n",
            "Pikachu\n",
            "test005.jpg 识别为：\n",
            "Pikachu\n",
            "test007.jpg 识别为：\n",
            "Pikachu\n",
            "test001.jpg 识别为：\n",
            "Pikachu\n",
            "test002.jpg 识别为：\n",
            "Pikachu\n",
            "test010.jpg 识别为：\n",
            "Pikachu\n"
          ],
          "name": "stdout"
        },
        {
          "output_type": "stream",
          "text": [
            "/usr/local/lib/python3.6/dist-packages/ipykernel_launcher.py:17: FutureWarning: elementwise comparison failed; returning scalar instead, but in the future will perform elementwise comparison\n"
          ],
          "name": "stderr"
        }
      ]
    }
  ]
}